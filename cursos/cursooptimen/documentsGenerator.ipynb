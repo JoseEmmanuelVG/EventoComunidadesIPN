{
 "cells": [
  {
   "cell_type": "markdown",
   "metadata": {},
   "source": [
    "# Documents 📜📄📑"
   ]
  },
  {
   "cell_type": "markdown",
   "metadata": {},
   "source": [
    "#### Importamos modulos"
   ]
  },
  {
   "cell_type": "code",
   "execution_count": 8,
   "metadata": {},
   "outputs": [],
   "source": [
    "import json\n",
    "import random\n",
    "from datetime import datetime, timedelta"
   ]
  },
  {
   "cell_type": "markdown",
   "metadata": {},
   "source": [
    "#### Creamos una lista de tipos de documentos y duraciones"
   ]
  },
  {
   "cell_type": "code",
   "execution_count": 16,
   "metadata": {},
   "outputs": [],
   "source": [
    "documents = ['word', 'excel', 'json', 'passport', 'license']\n",
    "durations = [1, 2, 3, 4, 5]\n",
    "startYears = [2019, 2020, 2021, 2022, 2023, 2024]"
   ]
  },
  {
   "cell_type": "markdown",
   "metadata": {},
   "source": [
    "#### Elecciones al random"
   ]
  },
  {
   "cell_type": "code",
   "execution_count": 14,
   "metadata": {},
   "outputs": [
    {
     "name": "stdout",
     "output_type": "stream",
     "text": [
      "2\n"
     ]
    }
   ],
   "source": [
    "print(random.choice(durations))"
   ]
  },
  {
   "cell_type": "markdown",
   "metadata": {},
   "source": [
    "#### Datetime"
   ]
  },
  {
   "cell_type": "code",
   "execution_count": 51,
   "metadata": {},
   "outputs": [
    {
     "name": "stdout",
     "output_type": "stream",
     "text": [
      "date: 2024-02-21 00:00:00\n",
      "nextday: 2024-02-22 01:01:01\n",
      "Only date 1st way: 2024-02-22\n",
      "Only date 2nd way: 2024-02-22\n"
     ]
    }
   ],
   "source": [
    "from datetime import timedelta\n",
    "date = datetime(2024,2,21,0,0,0)\n",
    "print('date: '+ str(date))\n",
    "nextdate = date + timedelta(days=1, hours=1, minutes=1, seconds=1)\n",
    "print('nextday: '+ str(nextdate))\n",
    "print('Only date 1st way: ' + str(nextdate)[:10])\n",
    "print('Only date 2nd way: ' + nextdate.strftime('%Y-%m-%d'))"
   ]
  },
  {
   "cell_type": "markdown",
   "metadata": {},
   "source": [
    "#### Creamos el formato"
   ]
  },
  {
   "cell_type": "code",
   "execution_count": 40,
   "metadata": {},
   "outputs": [],
   "source": [
    "dic = {\n",
    "    'Documents': [\n",
    "        \n",
    "    ]\n",
    "}"
   ]
  },
  {
   "cell_type": "code",
   "execution_count": 41,
   "metadata": {},
   "outputs": [],
   "source": [
    "for document in documents:\n",
    "    expedition = datetime(random.choice(startYears),1,1,0,0,0)\n",
    "    dic['Documents'].append({\n",
    "        \"Name\": document,\n",
    "        \"Expedition\": expedition.strftime(\"%Y-%m-%d\"),\n",
    "        \"Expiration\": (expedition + timedelta(days=365*random.choice(durations))).strftime(\"%Y-%m-%d\")\n",
    "    })"
   ]
  },
  {
   "cell_type": "code",
   "execution_count": 42,
   "metadata": {},
   "outputs": [
    {
     "name": "stdout",
     "output_type": "stream",
     "text": [
      "{'Documents': [{'Name': 'word', 'Expedition': '2023-01-01', 'Expiration': '2024-01-01'}, {'Name': 'excel', 'Expedition': '2021-01-01', 'Expiration': '2024-01-01'}, {'Name': 'json', 'Expedition': '2023-01-01', 'Expiration': '2024-01-01'}, {'Name': 'passport', 'Expedition': '2023-01-01', 'Expiration': '2026-12-31'}, {'Name': 'license', 'Expedition': '2019-01-01', 'Expiration': '2020-01-01'}]}\n"
     ]
    }
   ],
   "source": [
    "print(dic)"
   ]
  },
  {
   "cell_type": "markdown",
   "metadata": {},
   "source": [
    "#### Guardamos el json"
   ]
  },
  {
   "cell_type": "code",
   "execution_count": 43,
   "metadata": {},
   "outputs": [],
   "source": [
    "nombreDelArchivo = './documents.json'\n",
    "with open(nombreDelArchivo, 'w', encoding='utf-8') as archivo_jason:\n",
    "    json.dump(dic,archivo_jason, ensure_ascii=False, indent=2)"
   ]
  }
 ],
 "metadata": {
  "kernelspec": {
   "display_name": "Python 3",
   "language": "python",
   "name": "python3"
  },
  "language_info": {
   "codemirror_mode": {
    "name": "ipython",
    "version": 3
   },
   "file_extension": ".py",
   "mimetype": "text/x-python",
   "name": "python",
   "nbconvert_exporter": "python",
   "pygments_lexer": "ipython3",
   "version": "3.12.1"
  }
 },
 "nbformat": 4,
 "nbformat_minor": 2
}
