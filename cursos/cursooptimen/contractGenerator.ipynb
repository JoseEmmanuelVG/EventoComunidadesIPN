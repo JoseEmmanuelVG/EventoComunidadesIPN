{
 "cells": [
  {
   "cell_type": "markdown",
   "metadata": {},
   "source": [
    "# Contracts 🚀"
   ]
  },
  {
   "cell_type": "markdown",
   "metadata": {},
   "source": [
    "#### Importamos modulos"
   ]
  },
  {
   "cell_type": "code",
   "execution_count": 1,
   "metadata": {},
   "outputs": [],
   "source": [
    "import json"
   ]
  },
  {
   "cell_type": "markdown",
   "metadata": {},
   "source": [
    "#### Creamos la lista de contratos"
   ]
  },
  {
   "cell_type": "code",
   "execution_count": 2,
   "metadata": {},
   "outputs": [],
   "source": [
    "contracts = [\"3x2\",'6x1',\"3x1\",'2x1','2x2','5x2','1x1','4x2']"
   ]
  },
  {
   "cell_type": "markdown",
   "metadata": {},
   "source": [
    "#### Creamos el formato"
   ]
  },
  {
   "cell_type": "code",
   "execution_count": 8,
   "metadata": {},
   "outputs": [
    {
     "name": "stdout",
     "output_type": "stream",
     "text": [
      "{'Contracts': []}\n"
     ]
    }
   ],
   "source": [
    "dic = {\n",
    "    \"Contracts\": [\n",
    "\n",
    "    ]\n",
    "}\n",
    "print(dic)"
   ]
  },
  {
   "cell_type": "markdown",
   "metadata": {},
   "source": [
    "#### Llenamos el formato"
   ]
  },
  {
   "cell_type": "code",
   "execution_count": 9,
   "metadata": {},
   "outputs": [
    {
     "name": "stdout",
     "output_type": "stream",
     "text": [
      "{'Contracts': [{'Name': '3x2', 'ConsecutiveWorkDays': 3, 'ConsecutiveRestDays': 2}, {'Name': '6x1', 'ConsecutiveWorkDays': 6, 'ConsecutiveRestDays': 1}, {'Name': '3x1', 'ConsecutiveWorkDays': 3, 'ConsecutiveRestDays': 1}, {'Name': '2x1', 'ConsecutiveWorkDays': 2, 'ConsecutiveRestDays': 1}, {'Name': '2x2', 'ConsecutiveWorkDays': 2, 'ConsecutiveRestDays': 2}, {'Name': '5x2', 'ConsecutiveWorkDays': 5, 'ConsecutiveRestDays': 2}, {'Name': '1x1', 'ConsecutiveWorkDays': 1, 'ConsecutiveRestDays': 1}, {'Name': '4x2', 'ConsecutiveWorkDays': 4, 'ConsecutiveRestDays': 2}]}\n"
     ]
    }
   ],
   "source": [
    "for contract in contracts:\n",
    "     dic['Contracts'].append({\n",
    "        'Name': contract,\n",
    "        \"ConsecutiveWorkDays\": int(contract[:1]),\n",
    "        \"ConsecutiveRestDays\": int(contract[-1:])\n",
    "    })\n",
    "print(dic)"
   ]
  },
  {
   "cell_type": "markdown",
   "metadata": {},
   "source": [
    "#### Guardamos el json"
   ]
  },
  {
   "cell_type": "code",
   "execution_count": 10,
   "metadata": {},
   "outputs": [],
   "source": [
    "rutaDelArchivo = './contracts.json'\n",
    "with open(rutaDelArchivo, \"w\", encoding='utf-8') as archivo_jason:\n",
    "    json.dump(dic,archivo_jason,ensure_ascii=False,indent=2)"
   ]
  }
 ],
 "metadata": {
  "kernelspec": {
   "display_name": "Python 3",
   "language": "python",
   "name": "python3"
  },
  "language_info": {
   "codemirror_mode": {
    "name": "ipython",
    "version": 3
   },
   "file_extension": ".py",
   "mimetype": "text/x-python",
   "name": "python",
   "nbconvert_exporter": "python",
   "pygments_lexer": "ipython3",
   "version": "3.12.1"
  }
 },
 "nbformat": 4,
 "nbformat_minor": 2
}
