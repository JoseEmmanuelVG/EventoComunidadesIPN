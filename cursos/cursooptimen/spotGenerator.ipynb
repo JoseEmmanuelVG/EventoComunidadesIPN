{
 "cells": [
  {
   "cell_type": "markdown",
   "metadata": {},
   "source": [
    "# Spots 🏛️🏘️"
   ]
  },
  {
   "cell_type": "markdown",
   "metadata": {},
   "source": [
    "#### Importamos los modulos"
   ]
  },
  {
   "cell_type": "code",
   "execution_count": 1,
   "metadata": {},
   "outputs": [],
   "source": [
    "import json"
   ]
  },
  {
   "cell_type": "markdown",
   "metadata": {},
   "source": [
    "#### Necesitamos las skills, las importamos"
   ]
  },
  {
   "cell_type": "code",
   "execution_count": 2,
   "metadata": {},
   "outputs": [
    {
     "name": "stdout",
     "output_type": "stream",
     "text": [
      "{'Skills': [{'Name': 'Coverage'}, {'Name': 'Towing and pushback'}, {'Name': 'Luggage'}, {'Name': 'Transfer'}, {'Name': 'Loading and unloading'}, {'Name': 'Counter'}, {'Name': 'Cleaning'}, {'Name': 'Transportation'}, {'Name': 'Dispatch'}, {'Name': 'Boarding'}]}\n"
     ]
    }
   ],
   "source": [
    "rutaDelArchivo = \"./skills.json\"\n",
    "with open(rutaDelArchivo,'r') as archivo_json:\n",
    "    skills = json.load(archivo_json)\n",
    "print(skills) "
   ]
  },
  {
   "cell_type": "markdown",
   "metadata": {},
   "source": [
    "#### Creamos una lista de los spots"
   ]
  },
  {
   "cell_type": "code",
   "execution_count": 3,
   "metadata": {},
   "outputs": [
    {
     "name": "stdout",
     "output_type": "stream",
     "text": [
      "['Coverage_spot', 'Towing and pushback_spot', 'Luggage_spot', 'Transfer_spot', 'Loading and unloading_spot', 'Counter_spot', 'Cleaning_spot', 'Transportation_spot', 'Dispatch_spot', 'Boarding_spot']\n"
     ]
    }
   ],
   "source": [
    "spots = []\n",
    "for skill in skills['Skills']:\n",
    "    spots.append(skill['Name']+'_spot')\n",
    "print(spots)"
   ]
  },
  {
   "cell_type": "markdown",
   "metadata": {},
   "source": [
    "#### Creamos el formato"
   ]
  },
  {
   "cell_type": "code",
   "execution_count": 4,
   "metadata": {},
   "outputs": [
    {
     "name": "stdout",
     "output_type": "stream",
     "text": [
      "{'Spots': []}\n"
     ]
    }
   ],
   "source": [
    "dic = {\n",
    "    \"Spots\": [\n",
    "\n",
    "    ]\n",
    "} \n",
    "print(dic)"
   ]
  },
  {
   "cell_type": "markdown",
   "metadata": {},
   "source": [
    "#### Llenamos el formato"
   ]
  },
  {
   "cell_type": "code",
   "execution_count": 7,
   "metadata": {},
   "outputs": [
    {
     "name": "stdout",
     "output_type": "stream",
     "text": [
      "{'Spots': [{'Name': 'Coverage_spot', 'Skills': ['Coverage']}, {'Name': 'Towing and pushback_spot', 'Skills': ['Towing and pushback']}, {'Name': 'Luggage_spot', 'Skills': ['Luggage']}, {'Name': 'Transfer_spot', 'Skills': ['Transfer']}, {'Name': 'Loading and unloading_spot', 'Skills': ['Loading and unloading']}, {'Name': 'Counter_spot', 'Skills': ['Counter']}, {'Name': 'Cleaning_spot', 'Skills': ['Cleaning']}, {'Name': 'Transportation_spot', 'Skills': ['Transportation']}, {'Name': 'Dispatch_spot', 'Skills': ['Dispatch']}, {'Name': 'Boarding_spot', 'Skills': ['Boarding']}]}\n"
     ]
    }
   ],
   "source": [
    "for index, spot in enumerate(spots):\n",
    "    dic['Spots'].append({\n",
    "        'Name': spot,\n",
    "        'Skills': [skills['Skills'][index]['Name']]\n",
    "    })\n",
    "print(dic)"
   ]
  },
  {
   "cell_type": "markdown",
   "metadata": {},
   "source": [
    "#### Guardamos el diccionario "
   ]
  },
  {
   "cell_type": "code",
   "execution_count": 8,
   "metadata": {},
   "outputs": [],
   "source": [
    "nombreDelArchivo = 'spots.json'\n",
    "with open(nombreDelArchivo,'w',encoding='utf-8') as archivo_json:\n",
    "    json.dump(dic, archivo_json, ensure_ascii=False,indent=2)"
   ]
  }
 ],
 "metadata": {
  "kernelspec": {
   "display_name": "Python 3",
   "language": "python",
   "name": "python3"
  },
  "language_info": {
   "codemirror_mode": {
    "name": "ipython",
    "version": 3
   },
   "file_extension": ".py",
   "mimetype": "text/x-python",
   "name": "python",
   "nbconvert_exporter": "python",
   "pygments_lexer": "ipython3",
   "version": "3.12.1"
  }
 },
 "nbformat": 4,
 "nbformat_minor": 2
}
