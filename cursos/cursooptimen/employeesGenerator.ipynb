{
 "cells": [
  {
   "cell_type": "markdown",
   "metadata": {},
   "source": [
    "# Employees 👮‍♀️💂‍♀️👷‍♀️👩‍⚕️🧑‍🏭"
   ]
  },
  {
   "cell_type": "markdown",
   "metadata": {},
   "source": [
    "#### Importamos los modulos"
   ]
  },
  {
   "cell_type": "code",
   "execution_count": 1,
   "metadata": {},
   "outputs": [],
   "source": [
    "import random\n",
    "import json"
   ]
  },
  {
   "cell_type": "code",
   "execution_count": 7,
   "metadata": {},
   "outputs": [
    {
     "name": "stdout",
     "output_type": "stream",
     "text": [
      "['Pedro Torres', 'Andrea Bravo', 'Luis Núñez', 'Isabel Suárez', 'Lorena Morales', 'Raúl Gómez', 'Roberto Ortega', 'Beatriz Fuentes', 'Patricia Molina', 'Patricia Jiménez', 'David Herrera', 'Jorge Torres', 'Adriana Gómez', 'Ricardo Moreno', 'Carmen Flores', 'Santiago Sánchez', 'Elena Ramos', 'María Núñez', 'Andrea Castro', 'Jorge Serrano', 'Manuel Díaz', 'Luciana Pérez', 'Miguel Herrera', 'Javier Núñez', 'Francisco Navarro', 'Carmen Núñez', 'Gabriel Gómez', 'Adriana Ortega', 'Laura Medina', 'José Silva', 'Silvia Méndez', 'Patricia Pérez', 'Silvia Moreno', 'Luis Ortega', 'Alberto Navarro', 'Natalia Carrasco', 'Alejandro Parra', 'Fernando Álvarez', 'Carlos Díaz', 'Alejandro Álvarez', 'Óscar Morales', 'Pedro Cortés', 'Marina Castro', 'Pedro Flores', 'Valeria Álvarez', 'Laura Vega', 'Gonzalo Castro', 'Miguel Cortés', 'Raúl Moreno', 'Pablo Pérez']\n"
     ]
    }
   ],
   "source": [
    "import random\n",
    "firstNames = [\"Juan\", \"María\", \"Carlos\", \"Laura\", \"Pedro\", \"Ana\", \"Luis\", \"Sofía\",\n",
    "            \"Diego\", \"Elena\", \"Jorge\", \"Lucía\", \"Miguel\", \"Isabel\", \"Pablo\",\n",
    "            \"Carmen\", \"Alejandro\", \"Claudia\", \"Fernando\", \"Patricia\", \"Raúl\", \n",
    "            \"Silvia\", \"Roberto\", \"Natalia\", \"Santiago\", \"Andrea\", \"Javier\", \n",
    "            \"Martina\", \"Daniel\", \"Adriana\", \"Alberto\", \"Beatriz\", \"Manuel\", \n",
    "            \"Luciana\", \"Gabriel\", \"Victoria\", \"Francisco\", \"Eva\", \"Gonzalo\", \n",
    "            \"Valeria\", \"Ricardo\", \"Marina\", \"José\", \"Teresa\", \"David\", \"Inés\", \"Óscar\", \"Lorena\"]\n",
    "\n",
    "lastNames = [\"Gómez\", \"Fernández\", \"Pérez\", \"González\", \"Rodríguez\", \"López\", \n",
    "             \"Martínez\", \"Sánchez\", \"Ruiz\", \"Díaz\", \"Alonso\", \"Torres\", \n",
    "             \"Jiménez\", \"Vázquez\", \"Moreno\", \"Romero\", \"Álvarez\", \"Gutiérrez\", \n",
    "             \"Navarro\", \"Iglesias\", \"Ortega\", \"Silva\", \"Ortiz\", \"Medina\", \"Ramos\", \n",
    "             \"Castro\", \"Serrano\", \"Vidal\", \"Molina\", \"Parra\", \"Cortés\", \"Pascual\", \n",
    "             \"Herrera\", \"Bravo\", \"Arias\", \"Morales\", \"Flores\", \"Carmona\", \"Méndez\", \n",
    "             \"Vega\", \"Fuentes\", \"Reyes\", \"Carrasco\", \"Aguilar\", \"Tovar\", \"Núñez\", \"Domínguez\", \"Suárez\"]\n",
    "\n",
    "employees = []\n",
    "\n",
    "for _ in range(50):\n",
    "    employees.append(random.choice(firstNames) + \" \" + random.choice(lastNames))\n",
    "\n",
    "print(employees)"
   ]
  },
  {
   "cell_type": "markdown",
   "metadata": {},
   "source": [
    "#### Importamos los json anteriores"
   ]
  },
  {
   "cell_type": "code",
   "execution_count": 5,
   "metadata": {},
   "outputs": [
    {
     "name": "stdout",
     "output_type": "stream",
     "text": [
      "['Coverage', 'Towing and pushback', 'Luggage', 'Transfer', 'Loading and unloading', 'Counter', 'Cleaning', 'Transportation', 'Dispatch', 'Boarding']\n",
      "['Coverage_spot', 'Towing and pushback_spot', 'Luggage_spot', 'Transfer_spot', 'Loading and unloading_spot', 'Counter_spot', 'Cleaning_spot', 'Transportation_spot', 'Dispatch_spot', 'Boarding_spot']\n",
      "[{'Name': '3x2', 'ConsecutiveWorkDays': 3, 'ConsecutiveRestDays': 2}, {'Name': '6x1', 'ConsecutiveWorkDays': 6, 'ConsecutiveRestDays': 1}, {'Name': '3x1', 'ConsecutiveWorkDays': 3, 'ConsecutiveRestDays': 1}, {'Name': '2x1', 'ConsecutiveWorkDays': 2, 'ConsecutiveRestDays': 1}, {'Name': '2x2', 'ConsecutiveWorkDays': 2, 'ConsecutiveRestDays': 2}, {'Name': '5x2', 'ConsecutiveWorkDays': 5, 'ConsecutiveRestDays': 2}, {'Name': '1x1', 'ConsecutiveWorkDays': 1, 'ConsecutiveRestDays': 1}, {'Name': '4x2', 'ConsecutiveWorkDays': 4, 'ConsecutiveRestDays': 2}]\n",
      "[{'Name': 'word', 'Expedition': '2023-01-01', 'Expiration': '2024-01-01'}, {'Name': 'excel', 'Expedition': '2021-01-01', 'Expiration': '2024-01-01'}, {'Name': 'json', 'Expedition': '2023-01-01', 'Expiration': '2024-01-01'}, {'Name': 'passport', 'Expedition': '2023-01-01', 'Expiration': '2026-12-31'}, {'Name': 'license', 'Expedition': '2019-01-01', 'Expiration': '2020-01-01'}]\n"
     ]
    }
   ],
   "source": [
    "#Skills\n",
    "with open('./skills.json', 'r') as archivo_json:\n",
    "    skills_json = json.load(archivo_json)\n",
    "skills = []\n",
    "for skill in skills_json['Skills']:\n",
    "    skills.append(skill['Name'])\n",
    "print(skills)\n",
    "\n",
    "#Spots\n",
    "with open('./spots.json', 'r') as archivo_json:\n",
    "    spots_json = json.load(archivo_json)\n",
    "spots = []\n",
    "for spot in spots_json['Spots']:\n",
    "    spots.append(spot['Name'])\n",
    "print(spots)\n",
    "\n",
    "#Contracts\n",
    "with open('./contracts.json', 'r') as archivo_json:\n",
    "    contracts_json = json.load(archivo_json)\n",
    "contracts = contracts_json['Contracts']\n",
    "print(contracts)\n",
    "\n",
    "#Documents\n",
    "with open('./documents.json', 'r') as archivo_json:\n",
    "    documents_json = json.load(archivo_json)\n",
    "documents = documents_json['Documents']\n",
    "print(documents)"
   ]
  },
  {
   "cell_type": "markdown",
   "metadata": {},
   "source": [
    "#### Creamos el fomato"
   ]
  },
  {
   "cell_type": "code",
   "execution_count": 6,
   "metadata": {},
   "outputs": [],
   "source": [
    "dic = {\n",
    "    'Employees': [\n",
    "        \n",
    "    ]\n",
    "}"
   ]
  },
  {
   "cell_type": "markdown",
   "metadata": {},
   "source": [
    "#### Llenamos el formato"
   ]
  },
  {
   "cell_type": "code",
   "execution_count": 13,
   "metadata": {},
   "outputs": [],
   "source": [
    "for employee in employees:\n",
    "    skill = random.choice(skills)\n",
    "    spot = spots[spots.index(skill+'_spot')]\n",
    "    dic['Employees'].append({\n",
    "        'Name': employee,\n",
    "        'Skills': [skill],\n",
    "        'Spot': spot,\n",
    "        'Contract' : random.choice(contracts),\n",
    "        'Documents': documents,\n",
    "    })"
   ]
  },
  {
   "cell_type": "code",
   "execution_count": 14,
   "metadata": {},
   "outputs": [
    {
     "name": "stdout",
     "output_type": "stream",
     "text": [
      "{'Employees': [{'Name': 'Pedro Torres', 'Skills': ['Loading and unloading'], 'Spot': 'Loading and unloading_spot', 'Contract': {'Name': '6x1', 'ConsecutiveWorkDays': 6, 'ConsecutiveRestDays': 1}, 'Documents': [{'Name': 'word', 'Expedition': '2023-01-01', 'Expiration': '2024-01-01'}, {'Name': 'excel', 'Expedition': '2021-01-01', 'Expiration': '2024-01-01'}, {'Name': 'json', 'Expedition': '2023-01-01', 'Expiration': '2024-01-01'}, {'Name': 'passport', 'Expedition': '2023-01-01', 'Expiration': '2026-12-31'}, {'Name': 'license', 'Expedition': '2019-01-01', 'Expiration': '2020-01-01'}]}, {'Name': 'Andrea Bravo', 'Skills': ['Coverage'], 'Spot': 'Coverage_spot', 'Contract': {'Name': '4x2', 'ConsecutiveWorkDays': 4, 'ConsecutiveRestDays': 2}, 'Documents': [{'Name': 'word', 'Expedition': '2023-01-01', 'Expiration': '2024-01-01'}, {'Name': 'excel', 'Expedition': '2021-01-01', 'Expiration': '2024-01-01'}, {'Name': 'json', 'Expedition': '2023-01-01', 'Expiration': '2024-01-01'}, {'Name': 'passport', 'Expedition': '2023-01-01', 'Expiration': '2026-12-31'}, {'Name': 'license', 'Expedition': '2019-01-01', 'Expiration': '2020-01-01'}]}, {'Name': 'Luis Núñez', 'Skills': ['Transportation'], 'Spot': 'Transportation_spot', 'Contract': {'Name': '2x2', 'ConsecutiveWorkDays': 2, 'ConsecutiveRestDays': 2}, 'Documents': [{'Name': 'word', 'Expedition': '2023-01-01', 'Expiration': '2024-01-01'}, {'Name': 'excel', 'Expedition': '2021-01-01', 'Expiration': '2024-01-01'}, {'Name': 'json', 'Expedition': '2023-01-01', 'Expiration': '2024-01-01'}, {'Name': 'passport', 'Expedition': '2023-01-01', 'Expiration': '2026-12-31'}, {'Name': 'license', 'Expedition': '2019-01-01', 'Expiration': '2020-01-01'}]}, {'Name': 'Isabel Suárez', 'Skills': ['Transfer'], 'Spot': 'Transfer_spot', 'Contract': {'Name': '2x2', 'ConsecutiveWorkDays': 2, 'ConsecutiveRestDays': 2}, 'Documents': [{'Name': 'word', 'Expedition': '2023-01-01', 'Expiration': '2024-01-01'}, {'Name': 'excel', 'Expedition': '2021-01-01', 'Expiration': '2024-01-01'}, {'Name': 'json', 'Expedition': '2023-01-01', 'Expiration': '2024-01-01'}, {'Name': 'passport', 'Expedition': '2023-01-01', 'Expiration': '2026-12-31'}, {'Name': 'license', 'Expedition': '2019-01-01', 'Expiration': '2020-01-01'}]}, {'Name': 'Lorena Morales', 'Skills': ['Towing and pushback'], 'Spot': 'Towing and pushback_spot', 'Contract': {'Name': '5x2', 'ConsecutiveWorkDays': 5, 'ConsecutiveRestDays': 2}, 'Documents': [{'Name': 'word', 'Expedition': '2023-01-01', 'Expiration': '2024-01-01'}, {'Name': 'excel', 'Expedition': '2021-01-01', 'Expiration': '2024-01-01'}, {'Name': 'json', 'Expedition': '2023-01-01', 'Expiration': '2024-01-01'}, {'Name': 'passport', 'Expedition': '2023-01-01', 'Expiration': '2026-12-31'}, {'Name': 'license', 'Expedition': '2019-01-01', 'Expiration': '2020-01-01'}]}, {'Name': 'Raúl Gómez', 'Skills': ['Loading and unloading'], 'Spot': 'Loading and unloading_spot', 'Contract': {'Name': '3x1', 'ConsecutiveWorkDays': 3, 'ConsecutiveRestDays': 1}, 'Documents': [{'Name': 'word', 'Expedition': '2023-01-01', 'Expiration': '2024-01-01'}, {'Name': 'excel', 'Expedition': '2021-01-01', 'Expiration': '2024-01-01'}, {'Name': 'json', 'Expedition': '2023-01-01', 'Expiration': '2024-01-01'}, {'Name': 'passport', 'Expedition': '2023-01-01', 'Expiration': '2026-12-31'}, {'Name': 'license', 'Expedition': '2019-01-01', 'Expiration': '2020-01-01'}]}, {'Name': 'Roberto Ortega', 'Skills': ['Towing and pushback'], 'Spot': 'Towing and pushback_spot', 'Contract': {'Name': '1x1', 'ConsecutiveWorkDays': 1, 'ConsecutiveRestDays': 1}, 'Documents': [{'Name': 'word', 'Expedition': '2023-01-01', 'Expiration': '2024-01-01'}, {'Name': 'excel', 'Expedition': '2021-01-01', 'Expiration': '2024-01-01'}, {'Name': 'json', 'Expedition': '2023-01-01', 'Expiration': '2024-01-01'}, {'Name': 'passport', 'Expedition': '2023-01-01', 'Expiration': '2026-12-31'}, {'Name': 'license', 'Expedition': '2019-01-01', 'Expiration': '2020-01-01'}]}, {'Name': 'Beatriz Fuentes', 'Skills': ['Transfer'], 'Spot': 'Transfer_spot', 'Contract': {'Name': '2x2', 'ConsecutiveWorkDays': 2, 'ConsecutiveRestDays': 2}, 'Documents': [{'Name': 'word', 'Expedition': '2023-01-01', 'Expiration': '2024-01-01'}, {'Name': 'excel', 'Expedition': '2021-01-01', 'Expiration': '2024-01-01'}, {'Name': 'json', 'Expedition': '2023-01-01', 'Expiration': '2024-01-01'}, {'Name': 'passport', 'Expedition': '2023-01-01', 'Expiration': '2026-12-31'}, {'Name': 'license', 'Expedition': '2019-01-01', 'Expiration': '2020-01-01'}]}, {'Name': 'Patricia Molina', 'Skills': ['Luggage'], 'Spot': 'Luggage_spot', 'Contract': {'Name': '4x2', 'ConsecutiveWorkDays': 4, 'ConsecutiveRestDays': 2}, 'Documents': [{'Name': 'word', 'Expedition': '2023-01-01', 'Expiration': '2024-01-01'}, {'Name': 'excel', 'Expedition': '2021-01-01', 'Expiration': '2024-01-01'}, {'Name': 'json', 'Expedition': '2023-01-01', 'Expiration': '2024-01-01'}, {'Name': 'passport', 'Expedition': '2023-01-01', 'Expiration': '2026-12-31'}, {'Name': 'license', 'Expedition': '2019-01-01', 'Expiration': '2020-01-01'}]}, {'Name': 'Patricia Jiménez', 'Skills': ['Cleaning'], 'Spot': 'Cleaning_spot', 'Contract': {'Name': '1x1', 'ConsecutiveWorkDays': 1, 'ConsecutiveRestDays': 1}, 'Documents': [{'Name': 'word', 'Expedition': '2023-01-01', 'Expiration': '2024-01-01'}, {'Name': 'excel', 'Expedition': '2021-01-01', 'Expiration': '2024-01-01'}, {'Name': 'json', 'Expedition': '2023-01-01', 'Expiration': '2024-01-01'}, {'Name': 'passport', 'Expedition': '2023-01-01', 'Expiration': '2026-12-31'}, {'Name': 'license', 'Expedition': '2019-01-01', 'Expiration': '2020-01-01'}]}, {'Name': 'David Herrera', 'Skills': ['Boarding'], 'Spot': 'Boarding_spot', 'Contract': {'Name': '3x2', 'ConsecutiveWorkDays': 3, 'ConsecutiveRestDays': 2}, 'Documents': [{'Name': 'word', 'Expedition': '2023-01-01', 'Expiration': '2024-01-01'}, {'Name': 'excel', 'Expedition': '2021-01-01', 'Expiration': '2024-01-01'}, {'Name': 'json', 'Expedition': '2023-01-01', 'Expiration': '2024-01-01'}, {'Name': 'passport', 'Expedition': '2023-01-01', 'Expiration': '2026-12-31'}, {'Name': 'license', 'Expedition': '2019-01-01', 'Expiration': '2020-01-01'}]}, {'Name': 'Jorge Torres', 'Skills': ['Boarding'], 'Spot': 'Boarding_spot', 'Contract': {'Name': '1x1', 'ConsecutiveWorkDays': 1, 'ConsecutiveRestDays': 1}, 'Documents': [{'Name': 'word', 'Expedition': '2023-01-01', 'Expiration': '2024-01-01'}, {'Name': 'excel', 'Expedition': '2021-01-01', 'Expiration': '2024-01-01'}, {'Name': 'json', 'Expedition': '2023-01-01', 'Expiration': '2024-01-01'}, {'Name': 'passport', 'Expedition': '2023-01-01', 'Expiration': '2026-12-31'}, {'Name': 'license', 'Expedition': '2019-01-01', 'Expiration': '2020-01-01'}]}, {'Name': 'Adriana Gómez', 'Skills': ['Loading and unloading'], 'Spot': 'Loading and unloading_spot', 'Contract': {'Name': '2x2', 'ConsecutiveWorkDays': 2, 'ConsecutiveRestDays': 2}, 'Documents': [{'Name': 'word', 'Expedition': '2023-01-01', 'Expiration': '2024-01-01'}, {'Name': 'excel', 'Expedition': '2021-01-01', 'Expiration': '2024-01-01'}, {'Name': 'json', 'Expedition': '2023-01-01', 'Expiration': '2024-01-01'}, {'Name': 'passport', 'Expedition': '2023-01-01', 'Expiration': '2026-12-31'}, {'Name': 'license', 'Expedition': '2019-01-01', 'Expiration': '2020-01-01'}]}, {'Name': 'Ricardo Moreno', 'Skills': ['Coverage'], 'Spot': 'Coverage_spot', 'Contract': {'Name': '4x2', 'ConsecutiveWorkDays': 4, 'ConsecutiveRestDays': 2}, 'Documents': [{'Name': 'word', 'Expedition': '2023-01-01', 'Expiration': '2024-01-01'}, {'Name': 'excel', 'Expedition': '2021-01-01', 'Expiration': '2024-01-01'}, {'Name': 'json', 'Expedition': '2023-01-01', 'Expiration': '2024-01-01'}, {'Name': 'passport', 'Expedition': '2023-01-01', 'Expiration': '2026-12-31'}, {'Name': 'license', 'Expedition': '2019-01-01', 'Expiration': '2020-01-01'}]}, {'Name': 'Carmen Flores', 'Skills': ['Cleaning'], 'Spot': 'Cleaning_spot', 'Contract': {'Name': '3x2', 'ConsecutiveWorkDays': 3, 'ConsecutiveRestDays': 2}, 'Documents': [{'Name': 'word', 'Expedition': '2023-01-01', 'Expiration': '2024-01-01'}, {'Name': 'excel', 'Expedition': '2021-01-01', 'Expiration': '2024-01-01'}, {'Name': 'json', 'Expedition': '2023-01-01', 'Expiration': '2024-01-01'}, {'Name': 'passport', 'Expedition': '2023-01-01', 'Expiration': '2026-12-31'}, {'Name': 'license', 'Expedition': '2019-01-01', 'Expiration': '2020-01-01'}]}, {'Name': 'Santiago Sánchez', 'Skills': ['Counter'], 'Spot': 'Counter_spot', 'Contract': {'Name': '3x1', 'ConsecutiveWorkDays': 3, 'ConsecutiveRestDays': 1}, 'Documents': [{'Name': 'word', 'Expedition': '2023-01-01', 'Expiration': '2024-01-01'}, {'Name': 'excel', 'Expedition': '2021-01-01', 'Expiration': '2024-01-01'}, {'Name': 'json', 'Expedition': '2023-01-01', 'Expiration': '2024-01-01'}, {'Name': 'passport', 'Expedition': '2023-01-01', 'Expiration': '2026-12-31'}, {'Name': 'license', 'Expedition': '2019-01-01', 'Expiration': '2020-01-01'}]}, {'Name': 'Elena Ramos', 'Skills': ['Transportation'], 'Spot': 'Transportation_spot', 'Contract': {'Name': '6x1', 'ConsecutiveWorkDays': 6, 'ConsecutiveRestDays': 1}, 'Documents': [{'Name': 'word', 'Expedition': '2023-01-01', 'Expiration': '2024-01-01'}, {'Name': 'excel', 'Expedition': '2021-01-01', 'Expiration': '2024-01-01'}, {'Name': 'json', 'Expedition': '2023-01-01', 'Expiration': '2024-01-01'}, {'Name': 'passport', 'Expedition': '2023-01-01', 'Expiration': '2026-12-31'}, {'Name': 'license', 'Expedition': '2019-01-01', 'Expiration': '2020-01-01'}]}, {'Name': 'María Núñez', 'Skills': ['Boarding'], 'Spot': 'Boarding_spot', 'Contract': {'Name': '2x2', 'ConsecutiveWorkDays': 2, 'ConsecutiveRestDays': 2}, 'Documents': [{'Name': 'word', 'Expedition': '2023-01-01', 'Expiration': '2024-01-01'}, {'Name': 'excel', 'Expedition': '2021-01-01', 'Expiration': '2024-01-01'}, {'Name': 'json', 'Expedition': '2023-01-01', 'Expiration': '2024-01-01'}, {'Name': 'passport', 'Expedition': '2023-01-01', 'Expiration': '2026-12-31'}, {'Name': 'license', 'Expedition': '2019-01-01', 'Expiration': '2020-01-01'}]}, {'Name': 'Andrea Castro', 'Skills': ['Transfer'], 'Spot': 'Transfer_spot', 'Contract': {'Name': '6x1', 'ConsecutiveWorkDays': 6, 'ConsecutiveRestDays': 1}, 'Documents': [{'Name': 'word', 'Expedition': '2023-01-01', 'Expiration': '2024-01-01'}, {'Name': 'excel', 'Expedition': '2021-01-01', 'Expiration': '2024-01-01'}, {'Name': 'json', 'Expedition': '2023-01-01', 'Expiration': '2024-01-01'}, {'Name': 'passport', 'Expedition': '2023-01-01', 'Expiration': '2026-12-31'}, {'Name': 'license', 'Expedition': '2019-01-01', 'Expiration': '2020-01-01'}]}, {'Name': 'Jorge Serrano', 'Skills': ['Dispatch'], 'Spot': 'Dispatch_spot', 'Contract': {'Name': '6x1', 'ConsecutiveWorkDays': 6, 'ConsecutiveRestDays': 1}, 'Documents': [{'Name': 'word', 'Expedition': '2023-01-01', 'Expiration': '2024-01-01'}, {'Name': 'excel', 'Expedition': '2021-01-01', 'Expiration': '2024-01-01'}, {'Name': 'json', 'Expedition': '2023-01-01', 'Expiration': '2024-01-01'}, {'Name': 'passport', 'Expedition': '2023-01-01', 'Expiration': '2026-12-31'}, {'Name': 'license', 'Expedition': '2019-01-01', 'Expiration': '2020-01-01'}]}, {'Name': 'Manuel Díaz', 'Skills': ['Transfer'], 'Spot': 'Transfer_spot', 'Contract': {'Name': '1x1', 'ConsecutiveWorkDays': 1, 'ConsecutiveRestDays': 1}, 'Documents': [{'Name': 'word', 'Expedition': '2023-01-01', 'Expiration': '2024-01-01'}, {'Name': 'excel', 'Expedition': '2021-01-01', 'Expiration': '2024-01-01'}, {'Name': 'json', 'Expedition': '2023-01-01', 'Expiration': '2024-01-01'}, {'Name': 'passport', 'Expedition': '2023-01-01', 'Expiration': '2026-12-31'}, {'Name': 'license', 'Expedition': '2019-01-01', 'Expiration': '2020-01-01'}]}, {'Name': 'Luciana Pérez', 'Skills': ['Counter'], 'Spot': 'Counter_spot', 'Contract': {'Name': '3x1', 'ConsecutiveWorkDays': 3, 'ConsecutiveRestDays': 1}, 'Documents': [{'Name': 'word', 'Expedition': '2023-01-01', 'Expiration': '2024-01-01'}, {'Name': 'excel', 'Expedition': '2021-01-01', 'Expiration': '2024-01-01'}, {'Name': 'json', 'Expedition': '2023-01-01', 'Expiration': '2024-01-01'}, {'Name': 'passport', 'Expedition': '2023-01-01', 'Expiration': '2026-12-31'}, {'Name': 'license', 'Expedition': '2019-01-01', 'Expiration': '2020-01-01'}]}, {'Name': 'Miguel Herrera', 'Skills': ['Transportation'], 'Spot': 'Transportation_spot', 'Contract': {'Name': '2x1', 'ConsecutiveWorkDays': 2, 'ConsecutiveRestDays': 1}, 'Documents': [{'Name': 'word', 'Expedition': '2023-01-01', 'Expiration': '2024-01-01'}, {'Name': 'excel', 'Expedition': '2021-01-01', 'Expiration': '2024-01-01'}, {'Name': 'json', 'Expedition': '2023-01-01', 'Expiration': '2024-01-01'}, {'Name': 'passport', 'Expedition': '2023-01-01', 'Expiration': '2026-12-31'}, {'Name': 'license', 'Expedition': '2019-01-01', 'Expiration': '2020-01-01'}]}, {'Name': 'Javier Núñez', 'Skills': ['Towing and pushback'], 'Spot': 'Towing and pushback_spot', 'Contract': {'Name': '4x2', 'ConsecutiveWorkDays': 4, 'ConsecutiveRestDays': 2}, 'Documents': [{'Name': 'word', 'Expedition': '2023-01-01', 'Expiration': '2024-01-01'}, {'Name': 'excel', 'Expedition': '2021-01-01', 'Expiration': '2024-01-01'}, {'Name': 'json', 'Expedition': '2023-01-01', 'Expiration': '2024-01-01'}, {'Name': 'passport', 'Expedition': '2023-01-01', 'Expiration': '2026-12-31'}, {'Name': 'license', 'Expedition': '2019-01-01', 'Expiration': '2020-01-01'}]}, {'Name': 'Francisco Navarro', 'Skills': ['Boarding'], 'Spot': 'Boarding_spot', 'Contract': {'Name': '1x1', 'ConsecutiveWorkDays': 1, 'ConsecutiveRestDays': 1}, 'Documents': [{'Name': 'word', 'Expedition': '2023-01-01', 'Expiration': '2024-01-01'}, {'Name': 'excel', 'Expedition': '2021-01-01', 'Expiration': '2024-01-01'}, {'Name': 'json', 'Expedition': '2023-01-01', 'Expiration': '2024-01-01'}, {'Name': 'passport', 'Expedition': '2023-01-01', 'Expiration': '2026-12-31'}, {'Name': 'license', 'Expedition': '2019-01-01', 'Expiration': '2020-01-01'}]}, {'Name': 'Carmen Núñez', 'Skills': ['Luggage'], 'Spot': 'Luggage_spot', 'Contract': {'Name': '3x2', 'ConsecutiveWorkDays': 3, 'ConsecutiveRestDays': 2}, 'Documents': [{'Name': 'word', 'Expedition': '2023-01-01', 'Expiration': '2024-01-01'}, {'Name': 'excel', 'Expedition': '2021-01-01', 'Expiration': '2024-01-01'}, {'Name': 'json', 'Expedition': '2023-01-01', 'Expiration': '2024-01-01'}, {'Name': 'passport', 'Expedition': '2023-01-01', 'Expiration': '2026-12-31'}, {'Name': 'license', 'Expedition': '2019-01-01', 'Expiration': '2020-01-01'}]}, {'Name': 'Gabriel Gómez', 'Skills': ['Transfer'], 'Spot': 'Transfer_spot', 'Contract': {'Name': '3x2', 'ConsecutiveWorkDays': 3, 'ConsecutiveRestDays': 2}, 'Documents': [{'Name': 'word', 'Expedition': '2023-01-01', 'Expiration': '2024-01-01'}, {'Name': 'excel', 'Expedition': '2021-01-01', 'Expiration': '2024-01-01'}, {'Name': 'json', 'Expedition': '2023-01-01', 'Expiration': '2024-01-01'}, {'Name': 'passport', 'Expedition': '2023-01-01', 'Expiration': '2026-12-31'}, {'Name': 'license', 'Expedition': '2019-01-01', 'Expiration': '2020-01-01'}]}, {'Name': 'Adriana Ortega', 'Skills': ['Loading and unloading'], 'Spot': 'Loading and unloading_spot', 'Contract': {'Name': '4x2', 'ConsecutiveWorkDays': 4, 'ConsecutiveRestDays': 2}, 'Documents': [{'Name': 'word', 'Expedition': '2023-01-01', 'Expiration': '2024-01-01'}, {'Name': 'excel', 'Expedition': '2021-01-01', 'Expiration': '2024-01-01'}, {'Name': 'json', 'Expedition': '2023-01-01', 'Expiration': '2024-01-01'}, {'Name': 'passport', 'Expedition': '2023-01-01', 'Expiration': '2026-12-31'}, {'Name': 'license', 'Expedition': '2019-01-01', 'Expiration': '2020-01-01'}]}, {'Name': 'Laura Medina', 'Skills': ['Loading and unloading'], 'Spot': 'Loading and unloading_spot', 'Contract': {'Name': '2x2', 'ConsecutiveWorkDays': 2, 'ConsecutiveRestDays': 2}, 'Documents': [{'Name': 'word', 'Expedition': '2023-01-01', 'Expiration': '2024-01-01'}, {'Name': 'excel', 'Expedition': '2021-01-01', 'Expiration': '2024-01-01'}, {'Name': 'json', 'Expedition': '2023-01-01', 'Expiration': '2024-01-01'}, {'Name': 'passport', 'Expedition': '2023-01-01', 'Expiration': '2026-12-31'}, {'Name': 'license', 'Expedition': '2019-01-01', 'Expiration': '2020-01-01'}]}, {'Name': 'José Silva', 'Skills': ['Coverage'], 'Spot': 'Coverage_spot', 'Contract': {'Name': '1x1', 'ConsecutiveWorkDays': 1, 'ConsecutiveRestDays': 1}, 'Documents': [{'Name': 'word', 'Expedition': '2023-01-01', 'Expiration': '2024-01-01'}, {'Name': 'excel', 'Expedition': '2021-01-01', 'Expiration': '2024-01-01'}, {'Name': 'json', 'Expedition': '2023-01-01', 'Expiration': '2024-01-01'}, {'Name': 'passport', 'Expedition': '2023-01-01', 'Expiration': '2026-12-31'}, {'Name': 'license', 'Expedition': '2019-01-01', 'Expiration': '2020-01-01'}]}, {'Name': 'Silvia Méndez', 'Skills': ['Cleaning'], 'Spot': 'Cleaning_spot', 'Contract': {'Name': '5x2', 'ConsecutiveWorkDays': 5, 'ConsecutiveRestDays': 2}, 'Documents': [{'Name': 'word', 'Expedition': '2023-01-01', 'Expiration': '2024-01-01'}, {'Name': 'excel', 'Expedition': '2021-01-01', 'Expiration': '2024-01-01'}, {'Name': 'json', 'Expedition': '2023-01-01', 'Expiration': '2024-01-01'}, {'Name': 'passport', 'Expedition': '2023-01-01', 'Expiration': '2026-12-31'}, {'Name': 'license', 'Expedition': '2019-01-01', 'Expiration': '2020-01-01'}]}, {'Name': 'Patricia Pérez', 'Skills': ['Coverage'], 'Spot': 'Coverage_spot', 'Contract': {'Name': '4x2', 'ConsecutiveWorkDays': 4, 'ConsecutiveRestDays': 2}, 'Documents': [{'Name': 'word', 'Expedition': '2023-01-01', 'Expiration': '2024-01-01'}, {'Name': 'excel', 'Expedition': '2021-01-01', 'Expiration': '2024-01-01'}, {'Name': 'json', 'Expedition': '2023-01-01', 'Expiration': '2024-01-01'}, {'Name': 'passport', 'Expedition': '2023-01-01', 'Expiration': '2026-12-31'}, {'Name': 'license', 'Expedition': '2019-01-01', 'Expiration': '2020-01-01'}]}, {'Name': 'Silvia Moreno', 'Skills': ['Loading and unloading'], 'Spot': 'Loading and unloading_spot', 'Contract': {'Name': '5x2', 'ConsecutiveWorkDays': 5, 'ConsecutiveRestDays': 2}, 'Documents': [{'Name': 'word', 'Expedition': '2023-01-01', 'Expiration': '2024-01-01'}, {'Name': 'excel', 'Expedition': '2021-01-01', 'Expiration': '2024-01-01'}, {'Name': 'json', 'Expedition': '2023-01-01', 'Expiration': '2024-01-01'}, {'Name': 'passport', 'Expedition': '2023-01-01', 'Expiration': '2026-12-31'}, {'Name': 'license', 'Expedition': '2019-01-01', 'Expiration': '2020-01-01'}]}, {'Name': 'Luis Ortega', 'Skills': ['Coverage'], 'Spot': 'Coverage_spot', 'Contract': {'Name': '2x1', 'ConsecutiveWorkDays': 2, 'ConsecutiveRestDays': 1}, 'Documents': [{'Name': 'word', 'Expedition': '2023-01-01', 'Expiration': '2024-01-01'}, {'Name': 'excel', 'Expedition': '2021-01-01', 'Expiration': '2024-01-01'}, {'Name': 'json', 'Expedition': '2023-01-01', 'Expiration': '2024-01-01'}, {'Name': 'passport', 'Expedition': '2023-01-01', 'Expiration': '2026-12-31'}, {'Name': 'license', 'Expedition': '2019-01-01', 'Expiration': '2020-01-01'}]}, {'Name': 'Alberto Navarro', 'Skills': ['Towing and pushback'], 'Spot': 'Towing and pushback_spot', 'Contract': {'Name': '1x1', 'ConsecutiveWorkDays': 1, 'ConsecutiveRestDays': 1}, 'Documents': [{'Name': 'word', 'Expedition': '2023-01-01', 'Expiration': '2024-01-01'}, {'Name': 'excel', 'Expedition': '2021-01-01', 'Expiration': '2024-01-01'}, {'Name': 'json', 'Expedition': '2023-01-01', 'Expiration': '2024-01-01'}, {'Name': 'passport', 'Expedition': '2023-01-01', 'Expiration': '2026-12-31'}, {'Name': 'license', 'Expedition': '2019-01-01', 'Expiration': '2020-01-01'}]}, {'Name': 'Natalia Carrasco', 'Skills': ['Transportation'], 'Spot': 'Transportation_spot', 'Contract': {'Name': '3x1', 'ConsecutiveWorkDays': 3, 'ConsecutiveRestDays': 1}, 'Documents': [{'Name': 'word', 'Expedition': '2023-01-01', 'Expiration': '2024-01-01'}, {'Name': 'excel', 'Expedition': '2021-01-01', 'Expiration': '2024-01-01'}, {'Name': 'json', 'Expedition': '2023-01-01', 'Expiration': '2024-01-01'}, {'Name': 'passport', 'Expedition': '2023-01-01', 'Expiration': '2026-12-31'}, {'Name': 'license', 'Expedition': '2019-01-01', 'Expiration': '2020-01-01'}]}, {'Name': 'Alejandro Parra', 'Skills': ['Luggage'], 'Spot': 'Luggage_spot', 'Contract': {'Name': '2x2', 'ConsecutiveWorkDays': 2, 'ConsecutiveRestDays': 2}, 'Documents': [{'Name': 'word', 'Expedition': '2023-01-01', 'Expiration': '2024-01-01'}, {'Name': 'excel', 'Expedition': '2021-01-01', 'Expiration': '2024-01-01'}, {'Name': 'json', 'Expedition': '2023-01-01', 'Expiration': '2024-01-01'}, {'Name': 'passport', 'Expedition': '2023-01-01', 'Expiration': '2026-12-31'}, {'Name': 'license', 'Expedition': '2019-01-01', 'Expiration': '2020-01-01'}]}, {'Name': 'Fernando Álvarez', 'Skills': ['Coverage'], 'Spot': 'Coverage_spot', 'Contract': {'Name': '2x2', 'ConsecutiveWorkDays': 2, 'ConsecutiveRestDays': 2}, 'Documents': [{'Name': 'word', 'Expedition': '2023-01-01', 'Expiration': '2024-01-01'}, {'Name': 'excel', 'Expedition': '2021-01-01', 'Expiration': '2024-01-01'}, {'Name': 'json', 'Expedition': '2023-01-01', 'Expiration': '2024-01-01'}, {'Name': 'passport', 'Expedition': '2023-01-01', 'Expiration': '2026-12-31'}, {'Name': 'license', 'Expedition': '2019-01-01', 'Expiration': '2020-01-01'}]}, {'Name': 'Carlos Díaz', 'Skills': ['Coverage'], 'Spot': 'Coverage_spot', 'Contract': {'Name': '3x2', 'ConsecutiveWorkDays': 3, 'ConsecutiveRestDays': 2}, 'Documents': [{'Name': 'word', 'Expedition': '2023-01-01', 'Expiration': '2024-01-01'}, {'Name': 'excel', 'Expedition': '2021-01-01', 'Expiration': '2024-01-01'}, {'Name': 'json', 'Expedition': '2023-01-01', 'Expiration': '2024-01-01'}, {'Name': 'passport', 'Expedition': '2023-01-01', 'Expiration': '2026-12-31'}, {'Name': 'license', 'Expedition': '2019-01-01', 'Expiration': '2020-01-01'}]}, {'Name': 'Alejandro Álvarez', 'Skills': ['Towing and pushback'], 'Spot': 'Towing and pushback_spot', 'Contract': {'Name': '2x1', 'ConsecutiveWorkDays': 2, 'ConsecutiveRestDays': 1}, 'Documents': [{'Name': 'word', 'Expedition': '2023-01-01', 'Expiration': '2024-01-01'}, {'Name': 'excel', 'Expedition': '2021-01-01', 'Expiration': '2024-01-01'}, {'Name': 'json', 'Expedition': '2023-01-01', 'Expiration': '2024-01-01'}, {'Name': 'passport', 'Expedition': '2023-01-01', 'Expiration': '2026-12-31'}, {'Name': 'license', 'Expedition': '2019-01-01', 'Expiration': '2020-01-01'}]}, {'Name': 'Óscar Morales', 'Skills': ['Luggage'], 'Spot': 'Luggage_spot', 'Contract': {'Name': '6x1', 'ConsecutiveWorkDays': 6, 'ConsecutiveRestDays': 1}, 'Documents': [{'Name': 'word', 'Expedition': '2023-01-01', 'Expiration': '2024-01-01'}, {'Name': 'excel', 'Expedition': '2021-01-01', 'Expiration': '2024-01-01'}, {'Name': 'json', 'Expedition': '2023-01-01', 'Expiration': '2024-01-01'}, {'Name': 'passport', 'Expedition': '2023-01-01', 'Expiration': '2026-12-31'}, {'Name': 'license', 'Expedition': '2019-01-01', 'Expiration': '2020-01-01'}]}, {'Name': 'Pedro Cortés', 'Skills': ['Luggage'], 'Spot': 'Luggage_spot', 'Contract': {'Name': '1x1', 'ConsecutiveWorkDays': 1, 'ConsecutiveRestDays': 1}, 'Documents': [{'Name': 'word', 'Expedition': '2023-01-01', 'Expiration': '2024-01-01'}, {'Name': 'excel', 'Expedition': '2021-01-01', 'Expiration': '2024-01-01'}, {'Name': 'json', 'Expedition': '2023-01-01', 'Expiration': '2024-01-01'}, {'Name': 'passport', 'Expedition': '2023-01-01', 'Expiration': '2026-12-31'}, {'Name': 'license', 'Expedition': '2019-01-01', 'Expiration': '2020-01-01'}]}, {'Name': 'Marina Castro', 'Skills': ['Luggage'], 'Spot': 'Luggage_spot', 'Contract': {'Name': '1x1', 'ConsecutiveWorkDays': 1, 'ConsecutiveRestDays': 1}, 'Documents': [{'Name': 'word', 'Expedition': '2023-01-01', 'Expiration': '2024-01-01'}, {'Name': 'excel', 'Expedition': '2021-01-01', 'Expiration': '2024-01-01'}, {'Name': 'json', 'Expedition': '2023-01-01', 'Expiration': '2024-01-01'}, {'Name': 'passport', 'Expedition': '2023-01-01', 'Expiration': '2026-12-31'}, {'Name': 'license', 'Expedition': '2019-01-01', 'Expiration': '2020-01-01'}]}, {'Name': 'Pedro Flores', 'Skills': ['Transportation'], 'Spot': 'Transportation_spot', 'Contract': {'Name': '2x2', 'ConsecutiveWorkDays': 2, 'ConsecutiveRestDays': 2}, 'Documents': [{'Name': 'word', 'Expedition': '2023-01-01', 'Expiration': '2024-01-01'}, {'Name': 'excel', 'Expedition': '2021-01-01', 'Expiration': '2024-01-01'}, {'Name': 'json', 'Expedition': '2023-01-01', 'Expiration': '2024-01-01'}, {'Name': 'passport', 'Expedition': '2023-01-01', 'Expiration': '2026-12-31'}, {'Name': 'license', 'Expedition': '2019-01-01', 'Expiration': '2020-01-01'}]}, {'Name': 'Valeria Álvarez', 'Skills': ['Dispatch'], 'Spot': 'Dispatch_spot', 'Contract': {'Name': '1x1', 'ConsecutiveWorkDays': 1, 'ConsecutiveRestDays': 1}, 'Documents': [{'Name': 'word', 'Expedition': '2023-01-01', 'Expiration': '2024-01-01'}, {'Name': 'excel', 'Expedition': '2021-01-01', 'Expiration': '2024-01-01'}, {'Name': 'json', 'Expedition': '2023-01-01', 'Expiration': '2024-01-01'}, {'Name': 'passport', 'Expedition': '2023-01-01', 'Expiration': '2026-12-31'}, {'Name': 'license', 'Expedition': '2019-01-01', 'Expiration': '2020-01-01'}]}, {'Name': 'Laura Vega', 'Skills': ['Transportation'], 'Spot': 'Transportation_spot', 'Contract': {'Name': '3x2', 'ConsecutiveWorkDays': 3, 'ConsecutiveRestDays': 2}, 'Documents': [{'Name': 'word', 'Expedition': '2023-01-01', 'Expiration': '2024-01-01'}, {'Name': 'excel', 'Expedition': '2021-01-01', 'Expiration': '2024-01-01'}, {'Name': 'json', 'Expedition': '2023-01-01', 'Expiration': '2024-01-01'}, {'Name': 'passport', 'Expedition': '2023-01-01', 'Expiration': '2026-12-31'}, {'Name': 'license', 'Expedition': '2019-01-01', 'Expiration': '2020-01-01'}]}, {'Name': 'Gonzalo Castro', 'Skills': ['Luggage'], 'Spot': 'Luggage_spot', 'Contract': {'Name': '2x2', 'ConsecutiveWorkDays': 2, 'ConsecutiveRestDays': 2}, 'Documents': [{'Name': 'word', 'Expedition': '2023-01-01', 'Expiration': '2024-01-01'}, {'Name': 'excel', 'Expedition': '2021-01-01', 'Expiration': '2024-01-01'}, {'Name': 'json', 'Expedition': '2023-01-01', 'Expiration': '2024-01-01'}, {'Name': 'passport', 'Expedition': '2023-01-01', 'Expiration': '2026-12-31'}, {'Name': 'license', 'Expedition': '2019-01-01', 'Expiration': '2020-01-01'}]}, {'Name': 'Miguel Cortés', 'Skills': ['Loading and unloading'], 'Spot': 'Loading and unloading_spot', 'Contract': {'Name': '6x1', 'ConsecutiveWorkDays': 6, 'ConsecutiveRestDays': 1}, 'Documents': [{'Name': 'word', 'Expedition': '2023-01-01', 'Expiration': '2024-01-01'}, {'Name': 'excel', 'Expedition': '2021-01-01', 'Expiration': '2024-01-01'}, {'Name': 'json', 'Expedition': '2023-01-01', 'Expiration': '2024-01-01'}, {'Name': 'passport', 'Expedition': '2023-01-01', 'Expiration': '2026-12-31'}, {'Name': 'license', 'Expedition': '2019-01-01', 'Expiration': '2020-01-01'}]}, {'Name': 'Raúl Moreno', 'Skills': ['Loading and unloading'], 'Spot': 'Loading and unloading_spot', 'Contract': {'Name': '5x2', 'ConsecutiveWorkDays': 5, 'ConsecutiveRestDays': 2}, 'Documents': [{'Name': 'word', 'Expedition': '2023-01-01', 'Expiration': '2024-01-01'}, {'Name': 'excel', 'Expedition': '2021-01-01', 'Expiration': '2024-01-01'}, {'Name': 'json', 'Expedition': '2023-01-01', 'Expiration': '2024-01-01'}, {'Name': 'passport', 'Expedition': '2023-01-01', 'Expiration': '2026-12-31'}, {'Name': 'license', 'Expedition': '2019-01-01', 'Expiration': '2020-01-01'}]}, {'Name': 'Pablo Pérez', 'Skills': ['Luggage'], 'Spot': 'Luggage_spot', 'Contract': {'Name': '1x1', 'ConsecutiveWorkDays': 1, 'ConsecutiveRestDays': 1}, 'Documents': [{'Name': 'word', 'Expedition': '2023-01-01', 'Expiration': '2024-01-01'}, {'Name': 'excel', 'Expedition': '2021-01-01', 'Expiration': '2024-01-01'}, {'Name': 'json', 'Expedition': '2023-01-01', 'Expiration': '2024-01-01'}, {'Name': 'passport', 'Expedition': '2023-01-01', 'Expiration': '2026-12-31'}, {'Name': 'license', 'Expedition': '2019-01-01', 'Expiration': '2020-01-01'}]}]}\n"
     ]
    }
   ],
   "source": [
    "print(dic)"
   ]
  },
  {
   "cell_type": "markdown",
   "metadata": {},
   "source": [
    "#### Guardar el json"
   ]
  },
  {
   "cell_type": "code",
   "execution_count": 15,
   "metadata": {},
   "outputs": [],
   "source": [
    "import json\n",
    "nombreDelArchivo = './employees.json'\n",
    "with open(nombreDelArchivo, 'w', encoding='utf-8') as archivo_json:\n",
    "    json.dump(dic, archivo_json, ensure_ascii=False, indent=2)"
   ]
  }
 ],
 "metadata": {
  "kernelspec": {
   "display_name": "Python 3",
   "language": "python",
   "name": "python3"
  },
  "language_info": {
   "codemirror_mode": {
    "name": "ipython",
    "version": 3
   },
   "file_extension": ".py",
   "mimetype": "text/x-python",
   "name": "python",
   "nbconvert_exporter": "python",
   "pygments_lexer": "ipython3",
   "version": "3.12.1"
  }
 },
 "nbformat": 4,
 "nbformat_minor": 2
}
