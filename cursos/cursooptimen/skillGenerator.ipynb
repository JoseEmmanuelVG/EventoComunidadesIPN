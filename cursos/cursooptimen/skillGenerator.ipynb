{
 "cells": [
  {
   "cell_type": "markdown",
   "metadata": {},
   "source": [
    "# Skills 🤺"
   ]
  },
  {
   "cell_type": "markdown",
   "metadata": {},
   "source": [
    "#### Importamos los modulos"
   ]
  },
  {
   "cell_type": "code",
   "execution_count": 3,
   "metadata": {},
   "outputs": [],
   "source": [
    "import json"
   ]
  },
  {
   "cell_type": "markdown",
   "metadata": {},
   "source": [
    "#### Creamos una lista de skills"
   ]
  },
  {
   "cell_type": "code",
   "execution_count": 4,
   "metadata": {},
   "outputs": [],
   "source": [
    "skills = [\"Coverage\",\"Towing and pushback\",\n",
    "        \"Luggage\", \"Transfer\", \"Loading and unloading\",\n",
    "        \"Counter\", \"Cleaning\", \"Transportation\",\n",
    "        \"Dispatch\", \"Boarding\"]"
   ]
  },
  {
   "cell_type": "markdown",
   "metadata": {},
   "source": [
    "#### Creamos el formato"
   ]
  },
  {
   "cell_type": "code",
   "execution_count": 5,
   "metadata": {},
   "outputs": [
    {
     "name": "stdout",
     "output_type": "stream",
     "text": [
      "{'Skills': []}\n"
     ]
    }
   ],
   "source": [
    "dic = {\n",
    "    \"Skills\":[\n",
    "\n",
    "    ]\n",
    "}\n",
    "print(dic)"
   ]
  },
  {
   "cell_type": "markdown",
   "metadata": {},
   "source": [
    "#### Agregamos las skills al dic general"
   ]
  },
  {
   "cell_type": "code",
   "execution_count": 6,
   "metadata": {},
   "outputs": [
    {
     "name": "stdout",
     "output_type": "stream",
     "text": [
      "Boarding\n"
     ]
    }
   ],
   "source": [
    "for skill in skills:\n",
    "    dic['Skills'].append({'Name':skill})"
   ]
  },
  {
   "cell_type": "code",
   "execution_count": 7,
   "metadata": {},
   "outputs": [
    {
     "name": "stdout",
     "output_type": "stream",
     "text": [
      "{'Skills': [{'Name': 'Coverage'}, {'Name': 'Towing and pushback'}, {'Name': 'Luggage'}, {'Name': 'Transfer'}, {'Name': 'Loading and unloading'}, {'Name': 'Counter'}, {'Name': 'Cleaning'}, {'Name': 'Transportation'}, {'Name': 'Dispatch'}, {'Name': 'Boarding'}]}\n"
     ]
    }
   ],
   "source": [
    "print(dic)"
   ]
  },
  {
   "cell_type": "markdown",
   "metadata": {},
   "source": [
    "#### Guardamos el formato json"
   ]
  },
  {
   "cell_type": "code",
   "execution_count": 8,
   "metadata": {},
   "outputs": [],
   "source": [
    "nombreDelArchivo = \"skills.json\"\n",
    "with open(nombreDelArchivo, \"w\", encoding='utf-8') as archivo_jason:\n",
    "    #w es para indicar escritura y encoding es para indicar el tipo de codificacion, que acepte acentos\n",
    "    json.dump(dic,archivo_jason, ensure_ascii=False, indent=2)\n",
    "    #dic es el diccionario que queremos guardar en el archivo json\n",
    "    #archivo_jason es el tipo de archivo que queremos guardar, en este caso json\n",
    "    #ensure_ascii=False es para que guarde acentos\n",
    "    #indent=2 es para que guarde con indentacion"
   ]
  }
 ],
 "metadata": {
  "kernelspec": {
   "display_name": "Python 3",
   "language": "python",
   "name": "python3"
  },
  "language_info": {
   "codemirror_mode": {
    "name": "ipython",
    "version": 3
   },
   "file_extension": ".py",
   "mimetype": "text/x-python",
   "name": "python",
   "nbconvert_exporter": "python",
   "pygments_lexer": "ipython3",
   "version": "3.12.1"
  }
 },
 "nbformat": 4,
 "nbformat_minor": 2
}
